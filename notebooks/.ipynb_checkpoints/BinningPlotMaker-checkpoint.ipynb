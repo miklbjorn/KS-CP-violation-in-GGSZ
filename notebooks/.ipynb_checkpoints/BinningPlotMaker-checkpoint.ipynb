{
 "cells": [
  {
   "cell_type": "code",
   "execution_count": 44,
   "metadata": {
    "collapsed": true
   },
   "outputs": [],
   "source": [
    "bin_colors = {\n",
    "    1 : (1.000000, 0.900000, 0.400000), \n",
    "    2 : (1.000000, 0.800000, 0.200000), \n",
    "    3 : (1.000000, 0.600000, 0.600000), \n",
    "    4 : (0.200000, 0.750000, 0.200000), \n",
    "    5 : (0.200000, 0.600000, 0.200000), \n",
    "    6 : (0.200000, 0.400000, 0.800000), \n",
    "    7 : (0.600000, 0.000000, 0.600000), \n",
    "    8 : (0.000000, 0.000000, 0.000000)\n",
    "}\n",
    "\n",
    "import numpy as np\n",
    "from matplotlib.colors import ListedColormap\n",
    "bin_cmap = ListedColormap(np.array([\n",
    "    [1.000000, 0.950000, 0.450000], \n",
    "    [1.000000, 0.800000, 0.200000], \n",
    "    [1.000000, 0.600000, 0.600000], \n",
    "    [0.200000, 0.750000, 0.200000], \n",
    "    [0.200000, 0.600000, 0.200000], \n",
    "    [0.200000, 0.400000, 0.800000], \n",
    "    [0.600000, 0.000000, 0.600000], \n",
    "    [0.000000, 0.000000, 0.000000]\n",
    "]))"
   ]
  },
  {
   "cell_type": "code",
   "execution_count": 6,
   "metadata": {
    "collapsed": true
   },
   "outputs": [],
   "source": [
    "import cPickle\n",
    "binning_scheme_file = \"../python/input/KsPiPi_optimal.pickle\"\n",
    "with open(binning_scheme_file) as f:\n",
    "    bins, s12, s13 = cPickle.load(f)"
   ]
  },
  {
   "cell_type": "code",
   "execution_count": 117,
   "metadata": {
    "collapsed": false
   },
   "outputs": [
    {
     "name": "stderr",
     "output_type": "stream",
     "text": [
      "/cvmfs/sft.cern.ch/lcg/views/LCG_94/x86_64-slc6-gcc62-opt/lib/python2.7/site-packages/ipykernel_launcher.py:22: RuntimeWarning: invalid value encountered in sqrt\n",
      "/cvmfs/sft.cern.ch/lcg/views/LCG_94/x86_64-slc6-gcc62-opt/lib/python2.7/site-packages/ipykernel_launcher.py:23: RuntimeWarning: invalid value encountered in sqrt\n"
     ]
    }
   ],
   "source": [
    "mD = 1.865\n",
    "mK = 0.493\n",
    "mPi = 0.139\n",
    "min_val = (mK+mPi)**2\n",
    "max_val = (mD-mPi)**2\n",
    "\n",
    "mpipi_sq_min = (mD-mK)**2\n",
    "mpipi_sq_max = (mPi+mPi)**2\n",
    "s_diag_min = (mD**2 +mK**2+2*mPi**2-mpipi_sq_max)*0.5\n",
    "s_diag_max = (mD**2 +mK**2+2*mPi**2-mpipi_sq_min)*0.5\n",
    "\n",
    "diag = [s_diag_min, s_diag_max]\n",
    "\n",
    "# calculate border of the allowed phase space\n",
    "# from http://pdg.lbl.gov/2018/reviews/rpp2018-rev-kinematics.pdf\n",
    "\n",
    "m12 = np.append(\n",
    "    np.linspace(np.sqrt(min_val)-0.001, np.sqrt(min_val)+0.02, 500),\n",
    "    np.linspace(np.sqrt(min_val), np.sqrt(max_val), 200))\n",
    "E2 = 0.5*(m12**2+mK**2-mPi**2)/m12\n",
    "E3 = 0.5*(mD**2-m12**2-mPi**2)/m12\n",
    "upper_border = (E2+E3)**2-(np.sqrt(E2**2-mK**2)-np.sqrt(E3**2-mPi**2))**2\n",
    "lower_border = (E2+E3)**2-(np.sqrt(E2**2-mK**2)+np.sqrt(E3**2-mPi**2))**2"
   ]
  },
  {
   "cell_type": "code",
   "execution_count": 122,
   "metadata": {
    "collapsed": false
   },
   "outputs": [
    {
     "data": {
      "image/png": "[encoded data removed]",
      "text/plain": [
       "<Figure size 252x252 with 2 Axes>"
      ]
     },
     "metadata": {},
     "output_type": "display_data"
    }
   ],
   "source": [
    "%matplotlib inline\n",
    "import matplotlib.pyplot as plt\n",
    "from matplotlib import rcParams, rc\n",
    "rc('font', **{'family': 'serif', 'serif': ['Computer Modern']})\n",
    "rc('text', usetex=True)  \n",
    "\n",
    "\n",
    "fig, ax = plt.subplots(figsize=(3.5,3.5))\n",
    "fig.subplots_adjust(left=0.15)\n",
    "bins[bins==0]=None\n",
    "im = ax.imshow(abs(bins), origin='lower', cmap=bin_cmap,\n",
    "        extent=[min(s12), max(s12), min(s13), max(s13)],\n",
    "        vmin=0.5, vmax=8.5)\n",
    "\n",
    "\n",
    "\n",
    "plt.colorbar(im,fraction=0.046, pad=0.04, label='$|$ bin number $|$')\n",
    "ax.set_xlabel('$s_+$ [GeV$^2$/$c^4$]', fontsize=11)\n",
    "ax.set_ylabel('$s_-$ [GeV$^2$/$c^4$]', fontsize=11, labelpad=3)\n",
    "lim_factor=0.05\n",
    "ax.set_xlim(min_val-lim_factor, max_val+lim_factor)\n",
    "ax.set_ylim(min_val-lim_factor, max_val+lim_factor)\n",
    "ax.set_xticks(np.linspace(0.5, 3, 6))\n",
    "ax.set_yticks(np.linspace(0.5, 3, 6))\n",
    "ax.plot(m12**2, upper_border, color='k')\n",
    "ax.plot(m12**2, lower_border, color='k')\n",
    "ax.plot(diag, diag, color='k', lw=0.7)\n",
    "fig.savefig('plots/binning.pdf', format='pdf', dpi=300)"
   ]
  }
 ],
 "metadata": {
  "anaconda-cloud": {},
  "kernelspec": {
   "display_name": "Python 2",
   "language": "python",
   "name": "python2"
  },
  "language_info": {
   "codemirror_mode": {
    "name": "ipython",
    "version": 2
   },
   "file_extension": ".py",
   "mimetype": "text/x-python",
   "name": "python",
   "nbconvert_exporter": "python",
   "pygments_lexer": "ipython2",
   "version": "2.7.15"
  }
 },
 "nbformat": 4,
 "nbformat_minor": 2
}
